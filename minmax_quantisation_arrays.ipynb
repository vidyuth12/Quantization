{
 "cells": [
  {
   "cell_type": "markdown",
   "metadata": {},
   "source": [
    "# Quantization and Dequantization in 1-D tensors"
   ]
  },
  {
   "cell_type": "markdown",
   "metadata": {},
   "source": [
    "Implementing simple quantization and dequantization on arrays using min-max values of tensor for quantization range"
   ]
  },
  {
   "cell_type": "code",
   "execution_count": 1,
   "metadata": {},
   "outputs": [],
   "source": [
    "import numpy as np"
   ]
  },
  {
   "cell_type": "code",
   "execution_count": 2,
   "metadata": {},
   "outputs": [
    {
     "name": "stdout",
     "output_type": "stream",
     "text": [
      "[ 79.63 100.75  47.9   85.26 -19.68  91.28  82.59  -7.12  90.24  60.92\n",
      "  67.78  27.35 115.33 143.   104.42  84.64 146.59  51.34 125.74 126.03]\n"
     ]
    }
   ],
   "source": [
    "# Randomly distributed parameters\n",
    "parameters = np.random.uniform(low=-50, high=150, size=20)\n",
    "\n",
    "# Round each number of second decimal place\n",
    "parameters = np.round(parameters, 2)\n",
    "print(parameters)"
   ]
  },
  {
   "cell_type": "markdown",
   "metadata": {},
   "source": [
    "Defining quantization methods and implementing quantization"
   ]
  },
  {
   "cell_type": "code",
   "execution_count": 3,
   "metadata": {},
   "outputs": [],
   "source": [
    "def clamp(param_q, lower_bound, upper_bound):\n",
    "    \"\"\"\n",
    "    Function to implement clamp\n",
    "    \"\"\"\n",
    "    param_q[param_q < lower_bound] = lower_bound\n",
    "    param_q[param_q > upper_bound] = upper_bound\n",
    "    return param_q"
   ]
  },
  {
   "cell_type": "code",
   "execution_count": 5,
   "metadata": {},
   "outputs": [],
   "source": [
    "def asymetric_quantization(parameters, bits):\n",
    "    \"\"\"\n",
    "    Assymetric quantization\n",
    "    \"\"\"\n",
    "    alpha = np.max(parameters)\n",
    "    beta = np.min(parameters)\n",
    "    scale = (alpha - beta) / (2**bits-1)\n",
    "    zero = -1*np.round(beta/scale)\n",
    "    lower_bound = 0\n",
    "    upper_bound = 2**bits-1\n",
    "    quantized_params = clamp(np.round(parameters/scale+zero), lower_bound, upper_bound).astype(np.int32)\n",
    "    return quantized_params, scale, zero\n",
    "\n",
    "def asymetric_dequantization(param_q, scale, zero):\n",
    "    return (param_q - zero) * scale"
   ]
  },
  {
   "cell_type": "code",
   "execution_count": 8,
   "metadata": {},
   "outputs": [],
   "source": [
    "def symmetric_quantization(parameters, bits):\n",
    "    alpha = np.max(np.abs(parameters))\n",
    "    scale = (alpha) / (2**(bits-1)-1)\n",
    "    lower_bound = -2**bits-1\n",
    "    upper_bound = 2**(bits-1)-1\n",
    "    quantized_params = clamp(np.round(parameters/scale), lower_bound, upper_bound).astype(np.int32)\n",
    "    return quantized_params, scale\n",
    "\n",
    "def symmetric_dequantization(param_q, scale):\n",
    "    return param_q * scale"
   ]
  },
  {
   "cell_type": "code",
   "execution_count": 9,
   "metadata": {},
   "outputs": [],
   "source": [
    "def quantization_error(parameters, param_q):\n",
    "    return np.mean((parameters - param_q)**2)"
   ]
  },
  {
   "cell_type": "code",
   "execution_count": 10,
   "metadata": {},
   "outputs": [
    {
     "name": "stdout",
     "output_type": "stream",
     "text": [
      "Original:\n",
      "[ 79.63 100.75  47.9   85.26 -19.68  91.28  82.59  -7.12  90.24  60.92\n",
      "  67.78  27.35 115.33 143.   104.42  84.64 146.59  51.34 125.74 126.03]\n",
      "\n",
      "Asymmetric scale: 0.6520392156862745, zero: 30.0\n",
      "[152 185 103 161   0 170 157  19 168 123 134  72 207 249 190 160 255 109\n",
      " 223 223]\n",
      "\n",
      "Symmetric scale: 1.154251968503937\n",
      "[ 69  87  41  74 -17  79  72  -6  78  53  59  24 100 124  90  73 127  44\n",
      " 109 109]\n"
     ]
    }
   ],
   "source": [
    "(asymmetric_q, asymmetric_scale, asymmetric_zero) = asymetric_quantization(parameters, 8)\n",
    "(symmetric_q, symmetric_scale) = symmetric_quantization(parameters, 8)\n",
    "\n",
    "print(f'Original:')\n",
    "print(np.round(parameters, 2))\n",
    "print('')\n",
    "print(f'Asymmetric scale: {asymmetric_scale}, zero: {asymmetric_zero}')\n",
    "print(asymmetric_q)\n",
    "print('')\n",
    "print(f'Symmetric scale: {symmetric_scale}')\n",
    "print(symmetric_q)"
   ]
  },
  {
   "cell_type": "code",
   "execution_count": 11,
   "metadata": {},
   "outputs": [
    {
     "name": "stdout",
     "output_type": "stream",
     "text": [
      "Original:\n",
      "[ 79.63 100.75  47.9   85.26 -19.68  91.28  82.59  -7.12  90.24  60.92\n",
      "  67.78  27.35 115.33 143.   104.42  84.64 146.59  51.34 125.74 126.03]\n",
      "\n",
      "Dequantize Asymmetric:\n",
      "[ 79.55 101.07  47.6   85.42 -19.56  91.29  82.81  -7.17  89.98  60.64\n",
      "  67.81  27.39 115.41 142.8  104.33  84.77 146.71  51.51 125.84 125.84]\n",
      "\n",
      "Dequantize Symmetric:\n",
      "[ 79.64 100.42  47.32  85.41 -19.62  91.19  83.11  -6.93  90.03  61.18\n",
      "  68.1   27.7  115.43 143.13 103.88  84.26 146.59  50.79 125.81 125.81]\n"
     ]
    }
   ],
   "source": [
    "# Dequantize the parameters back to 32 bits\n",
    "params_deq_asymmetric = asymetric_dequantization(asymmetric_q, asymmetric_scale, asymmetric_zero)\n",
    "params_deq_symmetric = symmetric_dequantization(symmetric_q, symmetric_scale)\n",
    "\n",
    "print(f'Original:')\n",
    "print(np.round(parameters, 2))\n",
    "print('')\n",
    "print(f'Dequantize Asymmetric:')\n",
    "print(np.round(params_deq_asymmetric,2))\n",
    "print('')\n",
    "print(f'Dequantize Symmetric:')\n",
    "print(np.round(params_deq_symmetric, 2))"
   ]
  },
  {
   "cell_type": "code",
   "execution_count": 12,
   "metadata": {},
   "outputs": [
    {
     "name": "stdout",
     "output_type": "stream",
     "text": [
      "  Asymmetric error: 0.03\n",
      "   Symmetric error: 0.1\n"
     ]
    }
   ],
   "source": [
    "# Quantization error\n",
    "print(f'{\"Asymmetric error: \":>20}{np.round(quantization_error(parameters, params_deq_asymmetric), 2)}')\n",
    "print(f'{\"Symmetric error: \":>20}{np.round(quantization_error(parameters, params_deq_symmetric), 2)}')"
   ]
  },
  {
   "cell_type": "code",
   "execution_count": null,
   "metadata": {},
   "outputs": [],
   "source": []
  }
 ],
 "metadata": {
  "kernelspec": {
   "display_name": "myvenv",
   "language": "python",
   "name": "python3"
  },
  "language_info": {
   "codemirror_mode": {
    "name": "ipython",
    "version": 3
   },
   "file_extension": ".py",
   "mimetype": "text/x-python",
   "name": "python",
   "nbconvert_exporter": "python",
   "pygments_lexer": "ipython3",
   "version": "3.12.0"
  }
 },
 "nbformat": 4,
 "nbformat_minor": 2
}
